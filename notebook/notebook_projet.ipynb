{
 "cells": [
  {
   "cell_type": "markdown",
   "id": "ae07a0a1-b040-4393-a7a9-6b255f72ca78",
   "metadata": {},
   "source": [
    "# ::AMEZIANE Liticia"
   ]
  },
  {
   "cell_type": "markdown",
   "id": "78975e92-5206-4149-afff-7f7601f1922f",
   "metadata": {},
   "source": [
    "# Partie Préparation des données"
   ]
  },
  {
   "cell_type": "code",
   "execution_count": 1,
   "id": "0239c4d1-fc36-4c63-b845-eea435913882",
   "metadata": {
    "tags": []
   },
   "outputs": [
    {
     "data": {
      "text/html": [
       "<div>\n",
       "<style scoped>\n",
       "    .dataframe tbody tr th:only-of-type {\n",
       "        vertical-align: middle;\n",
       "    }\n",
       "\n",
       "    .dataframe tbody tr th {\n",
       "        vertical-align: top;\n",
       "    }\n",
       "\n",
       "    .dataframe thead th {\n",
       "        text-align: right;\n",
       "    }\n",
       "</style>\n",
       "<table border=\"1\" class=\"dataframe\">\n",
       "  <thead>\n",
       "    <tr style=\"text-align: right;\">\n",
       "      <th></th>\n",
       "      <th>code_postal</th>\n",
       "      <th>tr002_type_batiment_id</th>\n",
       "      <th>annee_construction</th>\n",
       "      <th>surface_habitable</th>\n",
       "      <th>consommation_energie</th>\n",
       "      <th>nom_methode_dpe</th>\n",
       "      <th>tr001_modele_dpe_id</th>\n",
       "      <th>tr006_type_usage_id</th>\n",
       "      <th>description</th>\n",
       "      <th>tr004_type_energie_id</th>\n",
       "      <th>description.1</th>\n",
       "      <th>consommation_energie_finale</th>\n",
       "      <th>annee_DPE</th>\n",
       "      <th>coordonnees</th>\n",
       "    </tr>\n",
       "  </thead>\n",
       "  <tbody>\n",
       "    <tr>\n",
       "      <th>0</th>\n",
       "      <td>38190</td>\n",
       "      <td>Appartement</td>\n",
       "      <td>2014.0</td>\n",
       "      <td>61.21</td>\n",
       "      <td>50.81</td>\n",
       "      <td>FACTURE - DPE</td>\n",
       "      <td>11</td>\n",
       "      <td>1</td>\n",
       "      <td>Chauffage</td>\n",
       "      <td>3</td>\n",
       "      <td>Gaz</td>\n",
       "      <td>12677.00</td>\n",
       "      <td>2014</td>\n",
       "      <td>45.2307367976, 5.94776788691</td>\n",
       "    </tr>\n",
       "    <tr>\n",
       "      <th>1</th>\n",
       "      <td>39290</td>\n",
       "      <td>Maison</td>\n",
       "      <td>1950.0</td>\n",
       "      <td>125.00</td>\n",
       "      <td>340.86</td>\n",
       "      <td>3CL - DPE</td>\n",
       "      <td>1</td>\n",
       "      <td>1</td>\n",
       "      <td>Chauffage</td>\n",
       "      <td>4</td>\n",
       "      <td>Autres énergies</td>\n",
       "      <td>34940.75</td>\n",
       "      <td>2015</td>\n",
       "      <td>47.2159380749, 5.52780674218</td>\n",
       "    </tr>\n",
       "    <tr>\n",
       "      <th>2</th>\n",
       "      <td>91100</td>\n",
       "      <td>Appartement</td>\n",
       "      <td>1947.0</td>\n",
       "      <td>40.14</td>\n",
       "      <td>246.00</td>\n",
       "      <td>Méthode Facture</td>\n",
       "      <td>2</td>\n",
       "      <td>1</td>\n",
       "      <td>Chauffage</td>\n",
       "      <td>3</td>\n",
       "      <td>Gaz</td>\n",
       "      <td>11000.00</td>\n",
       "      <td>2014</td>\n",
       "      <td>48.598553411, 2.4642298382</td>\n",
       "    </tr>\n",
       "    <tr>\n",
       "      <th>3</th>\n",
       "      <td>82000</td>\n",
       "      <td>Maison</td>\n",
       "      <td>1998.0</td>\n",
       "      <td>120.00</td>\n",
       "      <td>32.39</td>\n",
       "      <td>3CL</td>\n",
       "      <td>1</td>\n",
       "      <td>1</td>\n",
       "      <td>Chauffage</td>\n",
       "      <td>2</td>\n",
       "      <td>Electricité</td>\n",
       "      <td>3249.65</td>\n",
       "      <td>2014</td>\n",
       "      <td>44.0224789981, 1.36379301211</td>\n",
       "    </tr>\n",
       "    <tr>\n",
       "      <th>4</th>\n",
       "      <td>92400</td>\n",
       "      <td>Appartement</td>\n",
       "      <td>1998.0</td>\n",
       "      <td>63.03</td>\n",
       "      <td>115.00</td>\n",
       "      <td>Méthode 3CL</td>\n",
       "      <td>1</td>\n",
       "      <td>1</td>\n",
       "      <td>Chauffage</td>\n",
       "      <td>4</td>\n",
       "      <td>Autres énergies</td>\n",
       "      <td>3596.44</td>\n",
       "      <td>2015</td>\n",
       "      <td>48.8983884255, 2.25522376319</td>\n",
       "    </tr>\n",
       "  </tbody>\n",
       "</table>\n",
       "</div>"
      ],
      "text/plain": [
       "  code_postal tr002_type_batiment_id  annee_construction  surface_habitable  \\\n",
       "0       38190            Appartement              2014.0              61.21   \n",
       "1       39290                 Maison              1950.0             125.00   \n",
       "2       91100            Appartement              1947.0              40.14   \n",
       "3       82000                 Maison              1998.0             120.00   \n",
       "4       92400            Appartement              1998.0              63.03   \n",
       "\n",
       "   consommation_energie  nom_methode_dpe  tr001_modele_dpe_id  \\\n",
       "0                 50.81    FACTURE - DPE                   11   \n",
       "1                340.86        3CL - DPE                    1   \n",
       "2                246.00  Méthode Facture                    2   \n",
       "3                 32.39              3CL                    1   \n",
       "4                115.00      Méthode 3CL                    1   \n",
       "\n",
       "   tr006_type_usage_id description  tr004_type_energie_id    description.1  \\\n",
       "0                    1   Chauffage                      3              Gaz   \n",
       "1                    1   Chauffage                      4  Autres énergies   \n",
       "2                    1   Chauffage                      3              Gaz   \n",
       "3                    1   Chauffage                      2      Electricité   \n",
       "4                    1   Chauffage                      4  Autres énergies   \n",
       "\n",
       "   consommation_energie_finale  annee_DPE                   coordonnees  \n",
       "0                     12677.00       2014  45.2307367976, 5.94776788691  \n",
       "1                     34940.75       2015  47.2159380749, 5.52780674218  \n",
       "2                     11000.00       2014    48.598553411, 2.4642298382  \n",
       "3                      3249.65       2014  44.0224789981, 1.36379301211  \n",
       "4                      3596.44       2015  48.8983884255, 2.25522376319  "
      ]
     },
     "execution_count": 1,
     "metadata": {},
     "output_type": "execute_result"
    }
   ],
   "source": [
    "import pandas as pd\n",
    "import matplotlib.pyplot as plt\n",
    "\n",
    "# Charger les données à partir du fichier CSV\n",
    "df = pd.read_csv(\"base_dpe.csv\", delimiter=\";\", nrows=None)\n",
    "\n",
    "# Afficher les premières lignes pour vérification\n",
    "df.head()\n"
   ]
  },
  {
   "cell_type": "code",
   "execution_count": 4,
   "id": "fac83fc7-0bc2-4869-81e4-9c4f8e54c14e",
   "metadata": {
    "tags": []
   },
   "outputs": [
    {
     "data": {
      "text/plain": [
       "(1633856, 14)"
      ]
     },
     "execution_count": 4,
     "metadata": {},
     "output_type": "execute_result"
    }
   ],
   "source": [
    "df.shape"
   ]
  },
  {
   "cell_type": "code",
   "execution_count": 3,
   "id": "d3d6bcd3-2546-4840-9264-bb3438c0893d",
   "metadata": {
    "tags": []
   },
   "outputs": [
    {
     "data": {
      "text/plain": [
       "Index(['code_postal', 'tr002_type_batiment_id', 'annee_construction',\n",
       "       'surface_habitable', 'consommation_energie', 'nom_methode_dpe',\n",
       "       'tr001_modele_dpe_id', 'tr006_type_usage_id', 'description',\n",
       "       'tr004_type_energie_id', 'description.1', 'consommation_energie_finale',\n",
       "       'annee_DPE', 'coordonnees'],\n",
       "      dtype='object')"
      ]
     },
     "execution_count": 3,
     "metadata": {},
     "output_type": "execute_result"
    }
   ],
   "source": [
    "df.columns\n"
   ]
  },
  {
   "cell_type": "code",
   "execution_count": 7,
   "id": "a8e4dc91-9918-48fb-9dd3-d185b28d6883",
   "metadata": {
    "tags": []
   },
   "outputs": [],
   "source": [
    "#Diviser le dataframe pour obtenir que données ile de france"
   ]
  },
  {
   "cell_type": "code",
   "execution_count": 34,
   "id": "c97540f2-c277-4cb3-810d-7ef064e9e528",
   "metadata": {
    "tags": []
   },
   "outputs": [],
   "source": [
    "import pandas as pd\n",
    "\n",
    "# Charger le DataFrame contenant tous les enregistrements\n",
    "df_base_dpe = pd.read_csv(\"base_dpe.csv\", delimiter=\";\", nrows=None)\n",
    "\n",
    "# Convertir la colonne \"code_postal\" en chaînes de caractères\n",
    "df_base_dpe['code_postal'] = df_base_dpe['code_postal'].astype(str)\n",
    "\n",
    "# Liste des codes postaux de la région Île-de-France et de ses départements limitrophes\n",
    "codes_postaux_ile_de_france = ['75', '77', '78', '91', '92', '93', '94', '95']\n",
    "\n",
    "# Filtrer les enregistrements pour inclure uniquement ceux avec les codes postaux de la région Île-de-France et ses départements limitrophes\n",
    "df_ile_de_france = df_base_dpe[df_base_dpe['code_postal'].str.startswith(tuple(codes_postaux_ile_de_france))]\n",
    "\n",
    "# Enregistrer le DataFrame filtré dans un nouveau fichier CSV\n",
    "df_ile_de_france.to_csv('df_ile_de_france.csv', index=False)\n"
   ]
  },
  {
   "cell_type": "code",
   "execution_count": 6,
   "id": "0730985d-e4c3-4a60-b52f-4677bab7e46c",
   "metadata": {
    "tags": []
   },
   "outputs": [],
   "source": [
    "#filtrer le dataframe ile de france"
   ]
  },
  {
   "cell_type": "code",
   "execution_count": 40,
   "id": "542939e4-c028-4eac-bd3d-56f95140e56f",
   "metadata": {
    "tags": []
   },
   "outputs": [
    {
     "data": {
      "text/plain": [
       "(70658, 14)"
      ]
     },
     "execution_count": 40,
     "metadata": {},
     "output_type": "execute_result"
    }
   ],
   "source": [
    "import pandas as pd\n",
    "\n",
    "# Charger le nouveau DataFrame contenant les données de la région Île-de-France\n",
    "df_ile_de_france = pd.read_csv(\"df_ile_de_france.csv\")\n",
    "df_ile_de_france = df_ile_de_france[df_ile_de_france['annee_construction'] > 2000]\n",
    "\n",
    "df_ile_de_france.shape"
   ]
  },
  {
   "cell_type": "code",
   "execution_count": 8,
   "id": "3732dcc1-bc43-4159-919c-bcee6360ddba",
   "metadata": {
    "tags": []
   },
   "outputs": [],
   "source": [
    "#Diviser le dataframe pour obtenir données hors ile de france"
   ]
  },
  {
   "cell_type": "code",
   "execution_count": 44,
   "id": "f2606f43-b40d-4984-876a-ff7f23abad09",
   "metadata": {
    "tags": []
   },
   "outputs": [],
   "source": [
    "import pandas as pd\n",
    "\n",
    "# Charger le fichier CSV initial\n",
    "df_base_dpe = pd.read_csv(\"base_dpe.csv\", delimiter=\";\", nrows=None)\n",
    "\n",
    "# Liste des codes postaux de la région Île-de-France et ses départements limitrophes\n",
    "codes_postaux_ile_de_france = ['75', '77', '78', '91', '92', '93', '94', '95']\n",
    "\n",
    "# Filtrer les enregistrements correspondant à la région Île-de-France et ses départements limitrophes\n",
    "df_hors_ile_de_france = df[~df['code_postal'].astype(str).str.startswith(tuple(codes_postaux_ile_de_france))]\n",
    "\n",
    "# Enregistrer le DataFrame filtré dans un nouveau fichier CSV\n",
    "df_hors_ile_de_france.to_csv('df_hors_ile_de_france.csv', index=False)\n"
   ]
  },
  {
   "cell_type": "code",
   "execution_count": 45,
   "id": "44406bb4-6a4e-403e-9270-f617f5d5ba69",
   "metadata": {
    "tags": []
   },
   "outputs": [
    {
     "data": {
      "text/plain": [
       "(212808, 15)"
      ]
     },
     "execution_count": 45,
     "metadata": {},
     "output_type": "execute_result"
    }
   ],
   "source": [
    "import pandas as pd\n",
    "\n",
    "# Charger le nouveau DataFrame contenant les données de la région Île-de-France\n",
    "df_hors_ile_de_france = pd.read_csv(\"df_hors_ile_de_france.csv\")\n",
    "df_hors_ile_de_france = df_hors_ile_de_france[df_hors_ile_de_france['annee_construction'] >= 2013]\n",
    "\n",
    "df_hors_ile_de_france.shape"
   ]
  },
  {
   "cell_type": "code",
   "execution_count": 9,
   "id": "d27d9cc1-36c7-4b56-853d-9063611bcc26",
   "metadata": {
    "tags": []
   },
   "outputs": [],
   "source": [
    "#Création d'une nouvelle colonne ville selon la colonne code postale pour dataframe HORS ILE DE FRANCE"
   ]
  },
  {
   "cell_type": "code",
   "execution_count": 46,
   "id": "b470ab22-f6fb-449e-8e9b-3fd40f7a6e00",
   "metadata": {
    "tags": []
   },
   "outputs": [],
   "source": [
    "import pgeocode\n",
    "\n",
    "# Créer un objet de recherche de code postal pour la France\n",
    "nom_ville_france = pgeocode.Nominatim('fr')\n",
    "\n",
    "# Fonction pour obtenir le nom de la ville à partir du code postal\n",
    "def obtenir_ville(code_postal):\n",
    "    ville = nom_ville_france.query_postal_code(str(code_postal))\n",
    "    return ville['place_name']\n",
    "\n",
    "# Ajouter une colonne \"ville\" au DataFrame filtré en utilisant la fonction obtenir_ville\n",
    "df_hors_ile_de_france['ville'] = df_hors_ile_de_france['code_postal'].apply(obtenir_ville)\n",
    "\n",
    "# Afficher les premières lignes du DataFrame filtré avec la nouvelle colonne \"ville\"\n",
    "df_hors_ile_de_france.head()\n",
    "\n",
    "# Enregistrer le DataFrame dans un fichier CSV\n",
    "df_hors_ile_de_france.to_csv('df_Horsiledefrance.csv', index=False)"
   ]
  },
  {
   "cell_type": "code",
   "execution_count": 10,
   "id": "bde9ed93-b178-477a-bac3-85fa2b6bb245",
   "metadata": {
    "tags": []
   },
   "outputs": [],
   "source": [
    "#Création d'une nouvelle colonne ville selon la colonne code postale pour dataframe ILE DE FRANCE"
   ]
  },
  {
   "cell_type": "code",
   "execution_count": 41,
   "id": "82a4261a-e617-4aa6-9f0c-e84520965b11",
   "metadata": {
    "tags": []
   },
   "outputs": [
    {
     "name": "stdout",
     "output_type": "stream",
     "text": [
      "   code_postal tr002_type_batiment_id  annee_construction  surface_habitable  \\\n",
      "4        94450            Appartement              2006.0              62.07   \n",
      "7        91700            Appartement              2003.0              23.00   \n",
      "13       78220            Appartement              2015.0              77.90   \n",
      "17       94700            Appartement              2015.0              73.30   \n",
      "18       92000            Appartement              2007.0              18.16   \n",
      "\n",
      "    consommation_energie nom_methode_dpe  tr001_modele_dpe_id  \\\n",
      "4                 201.00     Méthode 3CL                    1   \n",
      "7                 418.99       3CL - DPE                    1   \n",
      "13                 60.59   FACTURE - DPE                   11   \n",
      "17                 59.21          TH_C_E                   11   \n",
      "18                393.29       3CL - DPE                    1   \n",
      "\n",
      "    tr006_type_usage_id description  tr004_type_energie_id description.1  \\\n",
      "4                     1   Chauffage                      2   Electricité   \n",
      "7                     1   Chauffage                      2   Electricité   \n",
      "13                    1   Chauffage                      3           Gaz   \n",
      "17                    1   Chauffage                      3           Gaz   \n",
      "18                    1   Chauffage                      2   Electricité   \n",
      "\n",
      "    consommation_energie_finale  annee_DPE                   coordonnees  \\\n",
      "4                       2494.84       2014  48.7454489962, 2.48939333385   \n",
      "7                       2441.26       2014  48.6398858055, 2.34146847544   \n",
      "13                     95728.00       2015  48.8027347247, 2.17103281984   \n",
      "17                      2004.02       2015   48.8058570543, 2.4381304073   \n",
      "18                      1677.39       2013   48.8962161446, 2.2068493546   \n",
      "\n",
      "                                                ville  \n",
      "4                                    Limeil-Brévannes  \n",
      "7   Villiers-sur-Orge, Sainte-Geneviève-des-Bois, ...  \n",
      "13                                           Viroflay  \n",
      "17                                     Maisons-Alfort  \n",
      "18                                           Nanterre  \n"
     ]
    }
   ],
   "source": [
    "import pandas as pd\n",
    "import pgeocode\n",
    "\n",
    "# Créer un objet de recherche de code postal pour la France\n",
    "nom_ville_france = pgeocode.Nominatim('fr')\n",
    "\n",
    "# Fonction pour obtenir le nom de la ville à partir du code postal\n",
    "def obtenir_ville(code_postal):\n",
    "    ville = nom_ville_france.query_postal_code(str(code_postal))\n",
    "    return ville['place_name']\n",
    "\n",
    "# Ajouter une colonne \"ville\" au DataFrame filtré en utilisant la fonction obtenir_ville\n",
    "df_ile_de_france['ville'] = df_ile_de_france['code_postal'].apply(obtenir_ville)\n",
    "\n",
    "# Afficher les premières lignes du DataFrame filtré avec la nouvelle colonne \"ville\"\n",
    "print(df_ile_de_france.head())\n",
    "\n",
    "# Enregistrer le DataFrame dans un fichier CSV\n",
    "df_ile_de_france.to_csv('df_ileDeFrance.csv', index=False)\n"
   ]
  },
  {
   "cell_type": "code",
   "execution_count": 11,
   "id": "9dbf0f4a-752b-431d-86c5-3d50b3c4c9e7",
   "metadata": {
    "tags": []
   },
   "outputs": [],
   "source": [
    "#Lecture des deux nouvs DATAFRAME"
   ]
  },
  {
   "cell_type": "code",
   "execution_count": 15,
   "id": "6f006ed0-a461-41f9-a20c-f3886dfc1446",
   "metadata": {
    "tags": []
   },
   "outputs": [
    {
     "name": "stderr",
     "output_type": "stream",
     "text": [
      "C:\\Users\\hp\\AppData\\Local\\Temp\\ipykernel_2280\\2829197462.py:2: DtypeWarning: Columns (0) have mixed types. Specify dtype option on import or set low_memory=False.\n",
      "  df_ileDeFrance = pd.read_csv('df_ileDeFrance.csv')\n"
     ]
    },
    {
     "data": {
      "text/html": [
       "<div>\n",
       "<style scoped>\n",
       "    .dataframe tbody tr th:only-of-type {\n",
       "        vertical-align: middle;\n",
       "    }\n",
       "\n",
       "    .dataframe tbody tr th {\n",
       "        vertical-align: top;\n",
       "    }\n",
       "\n",
       "    .dataframe thead th {\n",
       "        text-align: right;\n",
       "    }\n",
       "</style>\n",
       "<table border=\"1\" class=\"dataframe\">\n",
       "  <thead>\n",
       "    <tr style=\"text-align: right;\">\n",
       "      <th></th>\n",
       "      <th>code_postal</th>\n",
       "      <th>tr002_type_batiment_id</th>\n",
       "      <th>annee_construction</th>\n",
       "      <th>surface_habitable</th>\n",
       "      <th>consommation_energie</th>\n",
       "      <th>nom_methode_dpe</th>\n",
       "      <th>tr001_modele_dpe_id</th>\n",
       "      <th>tr006_type_usage_id</th>\n",
       "      <th>description</th>\n",
       "      <th>tr004_type_energie_id</th>\n",
       "      <th>description.1</th>\n",
       "      <th>consommation_energie_finale</th>\n",
       "      <th>annee_DPE</th>\n",
       "      <th>coordonnees</th>\n",
       "      <th>ville</th>\n",
       "    </tr>\n",
       "  </thead>\n",
       "  <tbody>\n",
       "    <tr>\n",
       "      <th>0</th>\n",
       "      <td>94450</td>\n",
       "      <td>Appartement</td>\n",
       "      <td>2006.0</td>\n",
       "      <td>62.07</td>\n",
       "      <td>201.00</td>\n",
       "      <td>Méthode 3CL</td>\n",
       "      <td>1</td>\n",
       "      <td>1</td>\n",
       "      <td>Chauffage</td>\n",
       "      <td>2</td>\n",
       "      <td>Electricité</td>\n",
       "      <td>2494.84</td>\n",
       "      <td>2014</td>\n",
       "      <td>48.7454489962, 2.48939333385</td>\n",
       "      <td>Limeil-Brévannes</td>\n",
       "    </tr>\n",
       "    <tr>\n",
       "      <th>1</th>\n",
       "      <td>91700</td>\n",
       "      <td>Appartement</td>\n",
       "      <td>2003.0</td>\n",
       "      <td>23.00</td>\n",
       "      <td>418.99</td>\n",
       "      <td>3CL - DPE</td>\n",
       "      <td>1</td>\n",
       "      <td>1</td>\n",
       "      <td>Chauffage</td>\n",
       "      <td>2</td>\n",
       "      <td>Electricité</td>\n",
       "      <td>2441.26</td>\n",
       "      <td>2014</td>\n",
       "      <td>48.6398858055, 2.34146847544</td>\n",
       "      <td>Villiers-sur-Orge, Sainte-Geneviève-des-Bois, ...</td>\n",
       "    </tr>\n",
       "    <tr>\n",
       "      <th>2</th>\n",
       "      <td>78220</td>\n",
       "      <td>Appartement</td>\n",
       "      <td>2015.0</td>\n",
       "      <td>77.90</td>\n",
       "      <td>60.59</td>\n",
       "      <td>FACTURE - DPE</td>\n",
       "      <td>11</td>\n",
       "      <td>1</td>\n",
       "      <td>Chauffage</td>\n",
       "      <td>3</td>\n",
       "      <td>Gaz</td>\n",
       "      <td>95728.00</td>\n",
       "      <td>2015</td>\n",
       "      <td>48.8027347247, 2.17103281984</td>\n",
       "      <td>Viroflay</td>\n",
       "    </tr>\n",
       "    <tr>\n",
       "      <th>3</th>\n",
       "      <td>94700</td>\n",
       "      <td>Appartement</td>\n",
       "      <td>2015.0</td>\n",
       "      <td>73.30</td>\n",
       "      <td>59.21</td>\n",
       "      <td>TH_C_E</td>\n",
       "      <td>11</td>\n",
       "      <td>1</td>\n",
       "      <td>Chauffage</td>\n",
       "      <td>3</td>\n",
       "      <td>Gaz</td>\n",
       "      <td>2004.02</td>\n",
       "      <td>2015</td>\n",
       "      <td>48.8058570543, 2.4381304073</td>\n",
       "      <td>Maisons-Alfort</td>\n",
       "    </tr>\n",
       "    <tr>\n",
       "      <th>4</th>\n",
       "      <td>92000</td>\n",
       "      <td>Appartement</td>\n",
       "      <td>2007.0</td>\n",
       "      <td>18.16</td>\n",
       "      <td>393.29</td>\n",
       "      <td>3CL - DPE</td>\n",
       "      <td>1</td>\n",
       "      <td>1</td>\n",
       "      <td>Chauffage</td>\n",
       "      <td>2</td>\n",
       "      <td>Electricité</td>\n",
       "      <td>1677.39</td>\n",
       "      <td>2013</td>\n",
       "      <td>48.8962161446, 2.2068493546</td>\n",
       "      <td>Nanterre</td>\n",
       "    </tr>\n",
       "  </tbody>\n",
       "</table>\n",
       "</div>"
      ],
      "text/plain": [
       "  code_postal tr002_type_batiment_id  annee_construction  surface_habitable  \\\n",
       "0       94450            Appartement              2006.0              62.07   \n",
       "1       91700            Appartement              2003.0              23.00   \n",
       "2       78220            Appartement              2015.0              77.90   \n",
       "3       94700            Appartement              2015.0              73.30   \n",
       "4       92000            Appartement              2007.0              18.16   \n",
       "\n",
       "   consommation_energie nom_methode_dpe  tr001_modele_dpe_id  \\\n",
       "0                201.00     Méthode 3CL                    1   \n",
       "1                418.99       3CL - DPE                    1   \n",
       "2                 60.59   FACTURE - DPE                   11   \n",
       "3                 59.21          TH_C_E                   11   \n",
       "4                393.29       3CL - DPE                    1   \n",
       "\n",
       "   tr006_type_usage_id description  tr004_type_energie_id description.1  \\\n",
       "0                    1   Chauffage                      2   Electricité   \n",
       "1                    1   Chauffage                      2   Electricité   \n",
       "2                    1   Chauffage                      3           Gaz   \n",
       "3                    1   Chauffage                      3           Gaz   \n",
       "4                    1   Chauffage                      2   Electricité   \n",
       "\n",
       "   consommation_energie_finale  annee_DPE                   coordonnees  \\\n",
       "0                      2494.84       2014  48.7454489962, 2.48939333385   \n",
       "1                      2441.26       2014  48.6398858055, 2.34146847544   \n",
       "2                     95728.00       2015  48.8027347247, 2.17103281984   \n",
       "3                      2004.02       2015   48.8058570543, 2.4381304073   \n",
       "4                      1677.39       2013   48.8962161446, 2.2068493546   \n",
       "\n",
       "                                               ville  \n",
       "0                                   Limeil-Brévannes  \n",
       "1  Villiers-sur-Orge, Sainte-Geneviève-des-Bois, ...  \n",
       "2                                           Viroflay  \n",
       "3                                     Maisons-Alfort  \n",
       "4                                           Nanterre  "
      ]
     },
     "execution_count": 15,
     "metadata": {},
     "output_type": "execute_result"
    }
   ],
   "source": [
    "# Lire le fichier CSV\n",
    "df_ileDeFrance = pd.read_csv('df_ileDeFrance.csv')\n",
    "df_ileDeFrance.reset_index(drop=True, inplace=True)\n",
    "df_ileDeFrance.head()"
   ]
  },
  {
   "cell_type": "code",
   "execution_count": 14,
   "id": "55c1ad4e-f0ae-4f53-ac09-913575788fcf",
   "metadata": {
    "tags": []
   },
   "outputs": [
    {
     "data": {
      "text/html": [
       "<div>\n",
       "<style scoped>\n",
       "    .dataframe tbody tr th:only-of-type {\n",
       "        vertical-align: middle;\n",
       "    }\n",
       "\n",
       "    .dataframe tbody tr th {\n",
       "        vertical-align: top;\n",
       "    }\n",
       "\n",
       "    .dataframe thead th {\n",
       "        text-align: right;\n",
       "    }\n",
       "</style>\n",
       "<table border=\"1\" class=\"dataframe\">\n",
       "  <thead>\n",
       "    <tr style=\"text-align: right;\">\n",
       "      <th></th>\n",
       "      <th>code_postal</th>\n",
       "      <th>tr002_type_batiment_id</th>\n",
       "      <th>annee_construction</th>\n",
       "      <th>surface_habitable</th>\n",
       "      <th>consommation_energie</th>\n",
       "      <th>nom_methode_dpe</th>\n",
       "      <th>tr001_modele_dpe_id</th>\n",
       "      <th>tr006_type_usage_id</th>\n",
       "      <th>description</th>\n",
       "      <th>tr004_type_energie_id</th>\n",
       "      <th>description.1</th>\n",
       "      <th>consommation_energie_finale</th>\n",
       "      <th>annee_DPE</th>\n",
       "      <th>coordonnees</th>\n",
       "      <th>ville</th>\n",
       "    </tr>\n",
       "  </thead>\n",
       "  <tbody>\n",
       "    <tr>\n",
       "      <th>0</th>\n",
       "      <td>38190</td>\n",
       "      <td>Appartement</td>\n",
       "      <td>2014.0</td>\n",
       "      <td>61.21</td>\n",
       "      <td>50.81</td>\n",
       "      <td>FACTURE - DPE</td>\n",
       "      <td>11</td>\n",
       "      <td>1</td>\n",
       "      <td>Chauffage</td>\n",
       "      <td>3</td>\n",
       "      <td>Gaz</td>\n",
       "      <td>12677.00</td>\n",
       "      <td>2014</td>\n",
       "      <td>45.2307367976, 5.94776788691</td>\n",
       "      <td>Sainte-Agnès, Brignoud, Le Champ-près-Froges, ...</td>\n",
       "    </tr>\n",
       "    <tr>\n",
       "      <th>1</th>\n",
       "      <td>33130</td>\n",
       "      <td>Appartement</td>\n",
       "      <td>2014.0</td>\n",
       "      <td>50.20</td>\n",
       "      <td>61.48</td>\n",
       "      <td>FACTURE - DPE</td>\n",
       "      <td>11</td>\n",
       "      <td>1</td>\n",
       "      <td>Chauffage</td>\n",
       "      <td>1</td>\n",
       "      <td>Bois, Biomasse</td>\n",
       "      <td>93529.80</td>\n",
       "      <td>2014</td>\n",
       "      <td>44.8016807866, -0.548228052443</td>\n",
       "      <td>Bègles</td>\n",
       "    </tr>\n",
       "    <tr>\n",
       "      <th>2</th>\n",
       "      <td>35460</td>\n",
       "      <td>Maison</td>\n",
       "      <td>2014.0</td>\n",
       "      <td>86.12</td>\n",
       "      <td>72.62</td>\n",
       "      <td>FACTURE - DPE</td>\n",
       "      <td>11</td>\n",
       "      <td>1</td>\n",
       "      <td>Chauffage</td>\n",
       "      <td>1</td>\n",
       "      <td>Bois, Biomasse</td>\n",
       "      <td>2936.00</td>\n",
       "      <td>2014</td>\n",
       "      <td>48.4182189564, -1.388463014</td>\n",
       "      <td>Saint-Ouen-la-Rouërie, Saint-Brice-en-Coglès, ...</td>\n",
       "    </tr>\n",
       "    <tr>\n",
       "      <th>3</th>\n",
       "      <td>83560</td>\n",
       "      <td>Maison</td>\n",
       "      <td>2014.0</td>\n",
       "      <td>87.90</td>\n",
       "      <td>116.50</td>\n",
       "      <td>3CL - DPE</td>\n",
       "      <td>1</td>\n",
       "      <td>1</td>\n",
       "      <td>Chauffage</td>\n",
       "      <td>1</td>\n",
       "      <td>Bois, Biomasse</td>\n",
       "      <td>1547.76</td>\n",
       "      <td>2015</td>\n",
       "      <td>43.6398039041, 5.84684395874</td>\n",
       "      <td>Vinon-sur-Verdon, Artigues, La Verdière, Ginas...</td>\n",
       "    </tr>\n",
       "    <tr>\n",
       "      <th>4</th>\n",
       "      <td>83260</td>\n",
       "      <td>Maison</td>\n",
       "      <td>2014.0</td>\n",
       "      <td>98.65</td>\n",
       "      <td>40.88</td>\n",
       "      <td>FACTURE - DPE</td>\n",
       "      <td>11</td>\n",
       "      <td>1</td>\n",
       "      <td>Chauffage</td>\n",
       "      <td>2</td>\n",
       "      <td>Electricité</td>\n",
       "      <td>909.00</td>\n",
       "      <td>2014</td>\n",
       "      <td>43.1635844264, 6.09277944177</td>\n",
       "      <td>La Crau</td>\n",
       "    </tr>\n",
       "  </tbody>\n",
       "</table>\n",
       "</div>"
      ],
      "text/plain": [
       "  code_postal tr002_type_batiment_id  annee_construction  surface_habitable  \\\n",
       "0       38190            Appartement              2014.0              61.21   \n",
       "1       33130            Appartement              2014.0              50.20   \n",
       "2       35460                 Maison              2014.0              86.12   \n",
       "3       83560                 Maison              2014.0              87.90   \n",
       "4       83260                 Maison              2014.0              98.65   \n",
       "\n",
       "   consommation_energie nom_methode_dpe  tr001_modele_dpe_id  \\\n",
       "0                 50.81   FACTURE - DPE                   11   \n",
       "1                 61.48   FACTURE - DPE                   11   \n",
       "2                 72.62   FACTURE - DPE                   11   \n",
       "3                116.50       3CL - DPE                    1   \n",
       "4                 40.88   FACTURE - DPE                   11   \n",
       "\n",
       "   tr006_type_usage_id description  tr004_type_energie_id   description.1  \\\n",
       "0                    1   Chauffage                      3             Gaz   \n",
       "1                    1   Chauffage                      1  Bois, Biomasse   \n",
       "2                    1   Chauffage                      1  Bois, Biomasse   \n",
       "3                    1   Chauffage                      1  Bois, Biomasse   \n",
       "4                    1   Chauffage                      2     Electricité   \n",
       "\n",
       "   consommation_energie_finale  annee_DPE                     coordonnees  \\\n",
       "0                     12677.00       2014    45.2307367976, 5.94776788691   \n",
       "1                     93529.80       2014  44.8016807866, -0.548228052443   \n",
       "2                      2936.00       2014     48.4182189564, -1.388463014   \n",
       "3                      1547.76       2015    43.6398039041, 5.84684395874   \n",
       "4                       909.00       2014    43.1635844264, 6.09277944177   \n",
       "\n",
       "                                               ville  \n",
       "0  Sainte-Agnès, Brignoud, Le Champ-près-Froges, ...  \n",
       "1                                             Bègles  \n",
       "2  Saint-Ouen-la-Rouërie, Saint-Brice-en-Coglès, ...  \n",
       "3  Vinon-sur-Verdon, Artigues, La Verdière, Ginas...  \n",
       "4                                            La Crau  "
      ]
     },
     "execution_count": 14,
     "metadata": {},
     "output_type": "execute_result"
    }
   ],
   "source": [
    "# Lire le fichier CSV\n",
    "df_Horsiledefrance = pd.read_csv('df_Horsiledefrance.csv')\n",
    "df_Horsiledefrance.reset_index(drop=True, inplace=True)\n",
    "df_Horsiledefrance.head()"
   ]
  },
  {
   "cell_type": "code",
   "execution_count": 18,
   "id": "b52e5527-cce4-4a84-851f-3be4c7eddc15",
   "metadata": {
    "tags": []
   },
   "outputs": [],
   "source": [
    "#Types des colonnes"
   ]
  },
  {
   "cell_type": "code",
   "execution_count": 16,
   "id": "5dd5145b-05b8-4525-b9f2-38f8678a0124",
   "metadata": {
    "tags": []
   },
   "outputs": [
    {
     "data": {
      "text/plain": [
       "code_postal                     object\n",
       "tr002_type_batiment_id          object\n",
       "annee_construction             float64\n",
       "surface_habitable              float64\n",
       "consommation_energie           float64\n",
       "nom_methode_dpe                 object\n",
       "tr001_modele_dpe_id              int64\n",
       "tr006_type_usage_id              int64\n",
       "description                     object\n",
       "tr004_type_energie_id            int64\n",
       "description.1                   object\n",
       "consommation_energie_finale    float64\n",
       "annee_DPE                        int64\n",
       "coordonnees                     object\n",
       "ville                           object\n",
       "dtype: object"
      ]
     },
     "execution_count": 16,
     "metadata": {},
     "output_type": "execute_result"
    }
   ],
   "source": [
    "df_Horsiledefrance.dtypes"
   ]
  },
  {
   "cell_type": "code",
   "execution_count": 17,
   "id": "89c550ba-87ba-47cf-ab92-cd5242b5d897",
   "metadata": {
    "tags": []
   },
   "outputs": [
    {
     "data": {
      "text/plain": [
       "code_postal                     object\n",
       "tr002_type_batiment_id          object\n",
       "annee_construction             float64\n",
       "surface_habitable              float64\n",
       "consommation_energie           float64\n",
       "nom_methode_dpe                 object\n",
       "tr001_modele_dpe_id              int64\n",
       "tr006_type_usage_id              int64\n",
       "description                     object\n",
       "tr004_type_energie_id            int64\n",
       "description.1                   object\n",
       "consommation_energie_finale    float64\n",
       "annee_DPE                        int64\n",
       "coordonnees                     object\n",
       "ville                           object\n",
       "dtype: object"
      ]
     },
     "execution_count": 17,
     "metadata": {},
     "output_type": "execute_result"
    }
   ],
   "source": [
    "df_ileDeFrance.dtypes"
   ]
  }
 ],
 "metadata": {
  "kernelspec": {
   "display_name": "Python 3 (ipykernel)",
   "language": "python",
   "name": "python3"
  },
  "language_info": {
   "codemirror_mode": {
    "name": "ipython",
    "version": 3
   },
   "file_extension": ".py",
   "mimetype": "text/x-python",
   "name": "python",
   "nbconvert_exporter": "python",
   "pygments_lexer": "ipython3",
   "version": "3.11.5"
  }
 },
 "nbformat": 4,
 "nbformat_minor": 5
}
